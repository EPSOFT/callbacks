{
 "cells": [
  {
   "cell_type": "markdown",
   "metadata": {},
   "source": [
    "###  Callbacks\n",
    "\n",
    "با callback ها کنترل بیشتری بر روی فرآیند آموزش مدل شبکه عصبی خواهیم داشت.\n",
    "\n",
    "به صورت کلی می توانیم 4 جنبه فرآیند آموزش را کنترل کنیم:\n",
    "\n",
    "1. آغاز فرآیند آموزش (on_train_begin)\n",
    "2. پایان فرآیند آموزش (on_train_end)\n",
    "3. آغاز هر epoch (on_epoch_begin)\n",
    "4. پایان هر epoch (on_epoch_end)"
   ]
  },
  {
   "cell_type": "code",
   "execution_count": null,
   "metadata": {},
   "outputs": [],
   "source": []
  },
  {
   "cell_type": "code",
   "execution_count": null,
   "metadata": {},
   "outputs": [],
   "source": [
    "learning_rate = tf.keras.backend.get_value(model.optimizer.lr)"
   ]
  },
  {
   "cell_type": "markdown",
   "metadata": {},
   "source": [
    "Question 4\n",
    "Which of the following functions are available in Keras Callback class, and get the \"logs\" passed to them during the training. The \"logs\" argument is a dictionary with training metrics like \"loss\" and \"val_loss\" etc."
   ]
  },
  {
   "cell_type": "code",
   "execution_count": 1,
   "metadata": {},
   "outputs": [],
   "source": [
    "import twint"
   ]
  },
  {
   "cell_type": "code",
   "execution_count": 7,
   "metadata": {},
   "outputs": [],
   "source": [
    "c = twint.Config()"
   ]
  },
  {
   "cell_type": "code",
   "execution_count": 8,
   "metadata": {},
   "outputs": [],
   "source": [
    "c.Since = '2023-11-28'\n",
    "c.Limit = 10\n",
    "#c.Store_csv = True\n",
    "c.Search = \"احسان پایدار\""
   ]
  },
  {
   "cell_type": "code",
   "execution_count": null,
   "metadata": {},
   "outputs": [],
   "source": [
    "c.Store_csv = True\n",
    "c.Output = \"none\"\n",
    "\n",
    "twint.run.Search(c)"
   ]
  },
  {
   "cell_type": "code",
   "execution_count": null,
   "metadata": {},
   "outputs": [],
   "source": [
    "Tweets_df"
   ]
  },
  {
   "cell_type": "code",
   "execution_count": null,
   "metadata": {},
   "outputs": [],
   "source": [
    "import twint\n",
    "\n",
    "c = twint.Config()\n",
    "\n",
    "c.Username = \"noneprivacy\"\n",
    "c.Custom[\"tweet\"] = [\"id\"]\n",
    "c.Custom[\"user\"] = [\"bio\"]\n",
    "c.Limit = 10\n",
    "c.Store_csv = True\n",
    "c.Output = \"none\"\n",
    "\n",
    "twint.run.Search(c)"
   ]
  },
  {
   "cell_type": "code",
   "execution_count": null,
   "metadata": {},
   "outputs": [],
   "source": []
  }
 ],
 "metadata": {
  "kernelspec": {
   "display_name": "Python 3",
   "language": "python",
   "name": "python3"
  },
  "language_info": {
   "codemirror_mode": {
    "name": "ipython",
    "version": 3
   },
   "file_extension": ".py",
   "mimetype": "text/x-python",
   "name": "python",
   "nbconvert_exporter": "python",
   "pygments_lexer": "ipython3",
   "version": "3.7.4"
  }
 },
 "nbformat": 4,
 "nbformat_minor": 4
}
